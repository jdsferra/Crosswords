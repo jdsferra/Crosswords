{
 "cells": [
  {
   "cell_type": "markdown",
   "id": "26c7cc9e",
   "metadata": {},
   "source": [
    "# What Words Should I Learn to Get Better at Solving the New York Times Crossword Puzzle?\n",
    "\n",
    "This analysis is targeted towards people who have done some crossword puzzles but want to take their efforts more seriously and improve their game. While simply practicing doing crossword puzzles consistently is obviously a great way to improve, analysis on a dataset containing all the clues and answers from NYT puzzles between 1993-2021 (https://www.kaggle.com/datasets/darinhawley/new-york-times-crossword-clues-answers-19932021) reveals some trends about the words that commonly feature so that players can study them away from the puzzles and speed up their improvement.\n",
    "\n",
    "## What Happens in this Analysis?\n",
    "\n",
    "After some descriptive analysis of the dataset, including examining missing values and some factor engineering involving word length, days of the week, and vowel ratios of the words. After briefly analyzing the most-common clues, I make a list of the most commonly-featured words in these puzzles. This list isn't a great study tool, though, because a lot of these words are already known to the average English-language speaker.  \n",
    "\n",
    "So, I cross-reference this list with a second list from https://www.wordfrequency.info/samples.asp, a list of 5,050 of the most common and currently-used words in the English language. By eliminating these words from the puzzle list, I create a valuable study guide: a list of words that are both common in the NYT Crossword puzzle, but are perhaps not known to the average person starting out. "
   ]
  },
  {
   "cell_type": "code",
   "execution_count": null,
   "id": "b4c32c90",
   "metadata": {},
   "outputs": [],
   "source": []
  }
 ],
 "metadata": {
  "kernelspec": {
   "display_name": "Python 3 (ipykernel)",
   "language": "python",
   "name": "python3"
  },
  "language_info": {
   "codemirror_mode": {
    "name": "ipython",
    "version": 3
   },
   "file_extension": ".py",
   "mimetype": "text/x-python",
   "name": "python",
   "nbconvert_exporter": "python",
   "pygments_lexer": "ipython3",
   "version": "3.11.5"
  }
 },
 "nbformat": 4,
 "nbformat_minor": 5
}
